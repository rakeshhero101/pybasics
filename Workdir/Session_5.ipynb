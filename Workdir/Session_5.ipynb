{
 "cells": [
  {
   "cell_type": "code",
   "execution_count": 1,
   "metadata": {
    "collapsed": true
   },
   "outputs": [],
   "source": [
    "paragraph = \"\"\"\n",
    "ILM runs a batch processing environment capable of modeling, rendering and compositing\n",
    "tens of thousands of motion picture frames per day. Thousands of machines running Linux, IRIX, Compaq\n",
    "Tru64, OS X, Solaris, and Windows join together to provide a production pipeline used by ~800 users daily.\n",
    "Speed of development is key, and Python was a faster way to code (and re-code) the programs that control\n",
    "this production pipeline. \n",
    "\"\"\"\n"
   ]
  },
  {
   "cell_type": "code",
   "execution_count": 3,
   "metadata": {},
   "outputs": [],
   "source": [
    "words = paragraph.split()"
   ]
  },
  {
   "cell_type": "code",
   "execution_count": 4,
   "metadata": {},
   "outputs": [
    {
     "data": {
      "text/plain": [
       "['ILM',\n",
       " 'runs',\n",
       " 'a',\n",
       " 'batch',\n",
       " 'processing',\n",
       " 'environment',\n",
       " 'capable',\n",
       " 'of',\n",
       " 'modeling,',\n",
       " 'rendering',\n",
       " 'and',\n",
       " 'compositing',\n",
       " 'tens',\n",
       " 'of',\n",
       " 'thousands',\n",
       " 'of',\n",
       " 'motion',\n",
       " 'picture',\n",
       " 'frames',\n",
       " 'per',\n",
       " 'day.',\n",
       " 'Thousands',\n",
       " 'of',\n",
       " 'machines',\n",
       " 'running',\n",
       " 'Linux,',\n",
       " 'IRIX,',\n",
       " 'Compaq',\n",
       " 'Tru64,',\n",
       " 'OS',\n",
       " 'X,',\n",
       " 'Solaris,',\n",
       " 'and',\n",
       " 'Windows',\n",
       " 'join',\n",
       " 'together',\n",
       " 'to',\n",
       " 'provide',\n",
       " 'a',\n",
       " 'production',\n",
       " 'pipeline',\n",
       " 'used',\n",
       " 'by',\n",
       " '~800',\n",
       " 'users',\n",
       " 'daily.',\n",
       " 'Speed',\n",
       " 'of',\n",
       " 'development',\n",
       " 'is',\n",
       " 'key,',\n",
       " 'and',\n",
       " 'Python',\n",
       " 'was',\n",
       " 'a',\n",
       " 'faster',\n",
       " 'way',\n",
       " 'to',\n",
       " 'code',\n",
       " '(and',\n",
       " 're-code)',\n",
       " 'the',\n",
       " 'programs',\n",
       " 'that',\n",
       " 'control',\n",
       " 'this',\n",
       " 'production',\n",
       " 'pipeline.']"
      ]
     },
     "execution_count": 4,
     "metadata": {},
     "output_type": "execute_result"
    }
   ],
   "source": [
    "words"
   ]
  },
  {
   "cell_type": "code",
   "execution_count": 11,
   "metadata": {},
   "outputs": [
    {
     "data": {
      "text/plain": [
       "['ilm',\n",
       " 'runs',\n",
       " 'a',\n",
       " 'batch',\n",
       " 'processing',\n",
       " 'environment',\n",
       " 'capable',\n",
       " 'of',\n",
       " 'modeling',\n",
       " 'rendering',\n",
       " 'and',\n",
       " 'compositing',\n",
       " 'tens',\n",
       " 'of',\n",
       " 'thousands',\n",
       " 'of',\n",
       " 'motion',\n",
       " 'picture',\n",
       " 'frames',\n",
       " 'per',\n",
       " 'day',\n",
       " 'thousands',\n",
       " 'of',\n",
       " 'machines',\n",
       " 'running',\n",
       " 'linux',\n",
       " 'irix',\n",
       " 'compaq',\n",
       " 'tru64',\n",
       " 'os',\n",
       " 'x',\n",
       " 'solaris',\n",
       " 'and',\n",
       " 'windows',\n",
       " 'join',\n",
       " 'together',\n",
       " 'to',\n",
       " 'provide',\n",
       " 'a',\n",
       " 'production',\n",
       " 'pipeline',\n",
       " 'used',\n",
       " 'by',\n",
       " '~800',\n",
       " 'users',\n",
       " 'daily',\n",
       " 'speed',\n",
       " 'of',\n",
       " 'development',\n",
       " 'is',\n",
       " 'key',\n",
       " 'and',\n",
       " 'python',\n",
       " 'was',\n",
       " 'a',\n",
       " 'faster',\n",
       " 'way',\n",
       " 'to',\n",
       " 'code',\n",
       " 'and',\n",
       " 're-code',\n",
       " 'the',\n",
       " 'programs',\n",
       " 'that',\n",
       " 'control',\n",
       " 'this',\n",
       " 'production',\n",
       " 'pipeline']"
      ]
     },
     "execution_count": 11,
     "metadata": {},
     "output_type": "execute_result"
    }
   ],
   "source": [
    "_words = []\n",
    "for word in words:\n",
    "    word = word.strip('.').strip('(').strip(')').strip(',').lower()\n",
    "    _words.append(word)\n",
    "_words"
   ]
  },
  {
   "cell_type": "code",
   "execution_count": 10,
   "metadata": {},
   "outputs": [
    {
     "data": {
      "text/plain": [
       "'abc'"
      ]
     },
     "execution_count": 10,
     "metadata": {},
     "output_type": "execute_result"
    }
   ],
   "source": [
    "'abc'.strip()# strip returns string"
   ]
  },
  {
   "cell_type": "markdown",
   "metadata": {},
   "source": [
    "### List Comprehension"
   ]
  },
  {
   "cell_type": "code",
   "execution_count": 13,
   "metadata": {},
   "outputs": [
    {
     "data": {
      "text/plain": [
       "[2, 4, 6, 8, 10, 12, 14, 16, 18]"
      ]
     },
     "execution_count": 13,
     "metadata": {},
     "output_type": "execute_result"
    }
   ],
   "source": [
    "list(range(2, 20, 2))"
   ]
  },
  {
   "cell_type": "code",
   "execution_count": 16,
   "metadata": {},
   "outputs": [
    {
     "data": {
      "text/plain": [
       "[3, 6, 9, 12, 15, 18, 21, 24, 27, 30]"
      ]
     },
     "execution_count": 16,
     "metadata": {},
     "output_type": "execute_result"
    }
   ],
   "source": [
    "list(range(3, 31, 3))"
   ]
  },
  {
   "cell_type": "code",
   "execution_count": 18,
   "metadata": {},
   "outputs": [
    {
     "name": "stdout",
     "output_type": "stream",
     "text": [
      "[3, 6, 9, 12, 15, 18, 21, 24, 27, 30]\n"
     ]
    }
   ],
   "source": [
    "items = []\n",
    "for i in range(1, 31):\n",
    "    if i % 3 == 0:\n",
    "        items.append(i)\n",
    "print(items)\n"
   ]
  },
  {
   "cell_type": "code",
   "execution_count": 24,
   "metadata": {},
   "outputs": [
    {
     "data": {
      "text/plain": [
       "[3, 6, 9, 12, 15, 18, 21, 24, 27, 30]"
      ]
     },
     "execution_count": 24,
     "metadata": {},
     "output_type": "execute_result"
    }
   ],
   "source": [
    "# list comphrension only takes 'for' loop\n",
    "# append item should be in first in list\n",
    "# i -> appends\n",
    "# first the loop and if conditions are executed and lastly appends in i\n",
    "items = [i for i in range(1, 31) if i % 3 == 0]\n",
    "items"
   ]
  },
  {
   "cell_type": "code",
   "execution_count": 25,
   "metadata": {},
   "outputs": [
    {
     "data": {
      "text/plain": [
       "[9, 36, 81, 144, 225, 324, 441, 576, 729, 900]"
      ]
     },
     "execution_count": 25,
     "metadata": {},
     "output_type": "execute_result"
    }
   ],
   "source": [
    "[i**2 for i in range(1, 31) if i % 3 == 0]"
   ]
  },
  {
   "cell_type": "code",
   "execution_count": 26,
   "metadata": {},
   "outputs": [
    {
     "data": {
      "text/plain": [
       "['ilm',\n",
       " 'runs',\n",
       " 'a',\n",
       " 'batch',\n",
       " 'processing',\n",
       " 'environment',\n",
       " 'capable',\n",
       " 'of',\n",
       " 'modeling',\n",
       " 'rendering',\n",
       " 'and',\n",
       " 'compositing',\n",
       " 'tens',\n",
       " 'of',\n",
       " 'thousands',\n",
       " 'of',\n",
       " 'motion',\n",
       " 'picture',\n",
       " 'frames',\n",
       " 'per',\n",
       " 'day',\n",
       " 'thousands',\n",
       " 'of',\n",
       " 'machines',\n",
       " 'running',\n",
       " 'linux',\n",
       " 'irix',\n",
       " 'compaq',\n",
       " 'tru64',\n",
       " 'os',\n",
       " 'x',\n",
       " 'solaris',\n",
       " 'and',\n",
       " 'windows',\n",
       " 'join',\n",
       " 'together',\n",
       " 'to',\n",
       " 'provide',\n",
       " 'a',\n",
       " 'production',\n",
       " 'pipeline',\n",
       " 'used',\n",
       " 'by',\n",
       " '~800',\n",
       " 'users',\n",
       " 'daily',\n",
       " 'speed',\n",
       " 'of',\n",
       " 'development',\n",
       " 'is',\n",
       " 'key',\n",
       " 'and',\n",
       " 'python',\n",
       " 'was',\n",
       " 'a',\n",
       " 'faster',\n",
       " 'way',\n",
       " 'to',\n",
       " 'code',\n",
       " 'and',\n",
       " 're-code',\n",
       " 'the',\n",
       " 'programs',\n",
       " 'that',\n",
       " 'control',\n",
       " 'this',\n",
       " 'production',\n",
       " 'pipeline']"
      ]
     },
     "execution_count": 26,
     "metadata": {},
     "output_type": "execute_result"
    }
   ],
   "source": [
    "# _words = []\n",
    "# for word in words:\n",
    "#     word = word.strip('.').strip('(').strip(')').strip(',').lower()\n",
    "#     _words.append(word)\n",
    "# _words\n",
    "[w.strip('.').strip('(').strip(')').strip(',').lower() for w in words]"
   ]
  },
  {
   "cell_type": "code",
   "execution_count": 27,
   "metadata": {
    "collapsed": true
   },
   "outputs": [],
   "source": [
    "_words = [w.strip('.').strip('(').strip(')').strip(',').lower() for w in words]"
   ]
  },
  {
   "cell_type": "code",
   "execution_count": 28,
   "metadata": {
    "collapsed": true
   },
   "outputs": [],
   "source": [
    "freq = {}"
   ]
  },
  {
   "cell_type": "code",
   "execution_count": 29,
   "metadata": {
    "collapsed": true
   },
   "outputs": [],
   "source": [
    "for word in _words:\n",
    "    freq[word] = 0"
   ]
  },
  {
   "cell_type": "code",
   "execution_count": 30,
   "metadata": {},
   "outputs": [
    {
     "data": {
      "text/plain": [
       "{'a': 0,\n",
       " 'and': 0,\n",
       " 'batch': 0,\n",
       " 'by': 0,\n",
       " 'capable': 0,\n",
       " 'code': 0,\n",
       " 'compaq': 0,\n",
       " 'compositing': 0,\n",
       " 'control': 0,\n",
       " 'daily': 0,\n",
       " 'day': 0,\n",
       " 'development': 0,\n",
       " 'environment': 0,\n",
       " 'faster': 0,\n",
       " 'frames': 0,\n",
       " 'ilm': 0,\n",
       " 'irix': 0,\n",
       " 'is': 0,\n",
       " 'join': 0,\n",
       " 'key': 0,\n",
       " 'linux': 0,\n",
       " 'machines': 0,\n",
       " 'modeling': 0,\n",
       " 'motion': 0,\n",
       " 'of': 0,\n",
       " 'os': 0,\n",
       " 'per': 0,\n",
       " 'picture': 0,\n",
       " 'pipeline': 0,\n",
       " 'processing': 0,\n",
       " 'production': 0,\n",
       " 'programs': 0,\n",
       " 'provide': 0,\n",
       " 'python': 0,\n",
       " 're-code': 0,\n",
       " 'rendering': 0,\n",
       " 'running': 0,\n",
       " 'runs': 0,\n",
       " 'solaris': 0,\n",
       " 'speed': 0,\n",
       " 'tens': 0,\n",
       " 'that': 0,\n",
       " 'the': 0,\n",
       " 'this': 0,\n",
       " 'thousands': 0,\n",
       " 'to': 0,\n",
       " 'together': 0,\n",
       " 'tru64': 0,\n",
       " 'used': 0,\n",
       " 'users': 0,\n",
       " 'was': 0,\n",
       " 'way': 0,\n",
       " 'windows': 0,\n",
       " 'x': 0,\n",
       " '~800': 0}"
      ]
     },
     "execution_count": 30,
     "metadata": {},
     "output_type": "execute_result"
    }
   ],
   "source": [
    "freq"
   ]
  },
  {
   "cell_type": "code",
   "execution_count": 31,
   "metadata": {},
   "outputs": [
    {
     "data": {
      "text/plain": [
       "True"
      ]
     },
     "execution_count": 31,
     "metadata": {},
     "output_type": "execute_result"
    }
   ],
   "source": [
    "# in operator\n",
    "# checks if 'a' in 'apple' which returns true\n",
    "# in is a contains opertaor\n",
    "'a' in {'a': 1, 'b': 4} # checks key in dictonary "
   ]
  },
  {
   "cell_type": "code",
   "execution_count": 34,
   "metadata": {},
   "outputs": [
    {
     "data": {
      "text/plain": [
       "True"
      ]
     },
     "execution_count": 34,
     "metadata": {},
     "output_type": "execute_result"
    }
   ],
   "source": [
    "# checks value in list, tuple, sets \n",
    "2 in [1, 2, 3, 4]"
   ]
  },
  {
   "cell_type": "code",
   "execution_count": 35,
   "metadata": {},
   "outputs": [
    {
     "data": {
      "text/plain": [
       "True"
      ]
     },
     "execution_count": 35,
     "metadata": {},
     "output_type": "execute_result"
    }
   ],
   "source": [
    "'a' in 'apple'"
   ]
  },
  {
   "cell_type": "code",
   "execution_count": 38,
   "metadata": {},
   "outputs": [
    {
     "data": {
      "text/plain": [
       "{'a': 3,\n",
       " 'and': 4,\n",
       " 'batch': 1,\n",
       " 'by': 1,\n",
       " 'capable': 1,\n",
       " 'code': 1,\n",
       " 'compaq': 1,\n",
       " 'compositing': 1,\n",
       " 'control': 1,\n",
       " 'daily': 1,\n",
       " 'day': 1,\n",
       " 'development': 1,\n",
       " 'environment': 1,\n",
       " 'faster': 1,\n",
       " 'frames': 1,\n",
       " 'ilm': 1,\n",
       " 'irix': 1,\n",
       " 'is': 1,\n",
       " 'join': 1,\n",
       " 'key': 1,\n",
       " 'linux': 1,\n",
       " 'machines': 1,\n",
       " 'modeling': 1,\n",
       " 'motion': 1,\n",
       " 'of': 5,\n",
       " 'os': 1,\n",
       " 'per': 1,\n",
       " 'picture': 1,\n",
       " 'pipeline': 2,\n",
       " 'processing': 1,\n",
       " 'production': 2,\n",
       " 'programs': 1,\n",
       " 'provide': 1,\n",
       " 'python': 1,\n",
       " 're-code': 1,\n",
       " 'rendering': 1,\n",
       " 'running': 1,\n",
       " 'runs': 1,\n",
       " 'solaris': 1,\n",
       " 'speed': 1,\n",
       " 'tens': 1,\n",
       " 'that': 1,\n",
       " 'the': 1,\n",
       " 'this': 1,\n",
       " 'thousands': 2,\n",
       " 'to': 2,\n",
       " 'together': 1,\n",
       " 'tru64': 1,\n",
       " 'used': 1,\n",
       " 'users': 1,\n",
       " 'was': 1,\n",
       " 'way': 1,\n",
       " 'windows': 1,\n",
       " 'x': 1,\n",
       " '~800': 1}"
      ]
     },
     "execution_count": 38,
     "metadata": {},
     "output_type": "execute_result"
    }
   ],
   "source": [
    "# first item will go to the else condition and loops if found goes to if condition\n",
    "freq = {}\n",
    "for word in _words:\n",
    "    if word in freq:\n",
    "        freq[word] += 1 # freq[word] returns value of that key\n",
    "    else:\n",
    "        freq[word] = 1\n",
    "freq"
   ]
  },
  {
   "cell_type": "code",
   "execution_count": 40,
   "metadata": {},
   "outputs": [
    {
     "data": {
      "text/plain": [
       "2"
      ]
     },
     "execution_count": 40,
     "metadata": {},
     "output_type": "execute_result"
    }
   ],
   "source": [
    "freq['thousands']"
   ]
  },
  {
   "cell_type": "code",
   "execution_count": 42,
   "metadata": {},
   "outputs": [
    {
     "data": {
      "text/plain": [
       "3"
      ]
     },
     "execution_count": 42,
     "metadata": {},
     "output_type": "execute_result"
    }
   ],
   "source": [
    "freq['thousands'] + 1"
   ]
  },
  {
   "cell_type": "code",
   "execution_count": 44,
   "metadata": {},
   "outputs": [],
   "source": [
    "dct = {'a' : 3}"
   ]
  },
  {
   "cell_type": "code",
   "execution_count": 45,
   "metadata": {},
   "outputs": [
    {
     "data": {
      "text/plain": [
       "{'a': 3}"
      ]
     },
     "execution_count": 45,
     "metadata": {},
     "output_type": "execute_result"
    }
   ],
   "source": [
    "dct"
   ]
  },
  {
   "cell_type": "code",
   "execution_count": 47,
   "metadata": {},
   "outputs": [
    {
     "data": {
      "text/plain": [
       "{'a': 4}"
      ]
     },
     "execution_count": 47,
     "metadata": {},
     "output_type": "execute_result"
    }
   ],
   "source": [
    "dct['a'] = 4\n",
    "dct"
   ]
  },
  {
   "cell_type": "code",
   "execution_count": 54,
   "metadata": {},
   "outputs": [
    {
     "data": {
      "text/plain": [
       "[1, 0, 2, 1, 0, 2, 1, 0, 2, 1, 0, 2, 1, 0, 2]"
      ]
     },
     "execution_count": 54,
     "metadata": {},
     "output_type": "execute_result"
    }
   ],
   "source": [
    "[x % 3 for x in range(0, 30) if x % 2 != 0]"
   ]
  },
  {
   "cell_type": "markdown",
   "metadata": {},
   "source": [
    "### Set Comprehension"
   ]
  },
  {
   "cell_type": "code",
   "execution_count": 53,
   "metadata": {},
   "outputs": [
    {
     "data": {
      "text/plain": [
       "{0, 1, 2}"
      ]
     },
     "execution_count": 53,
     "metadata": {},
     "output_type": "execute_result"
    }
   ],
   "source": [
    "{x % 3 for x in range(0, 30) if x % 2 != 0}"
   ]
  },
  {
   "cell_type": "markdown",
   "metadata": {},
   "source": [
    "### Dictionary Comprehension "
   ]
  },
  {
   "cell_type": "code",
   "execution_count": 57,
   "metadata": {},
   "outputs": [
    {
     "data": {
      "text/plain": [
       "{1: 1,\n",
       " 3: 0,\n",
       " 5: 2,\n",
       " 7: 1,\n",
       " 9: 0,\n",
       " 11: 2,\n",
       " 13: 1,\n",
       " 15: 0,\n",
       " 17: 2,\n",
       " 19: 1,\n",
       " 21: 0,\n",
       " 23: 2,\n",
       " 25: 1,\n",
       " 27: 0,\n",
       " 29: 2}"
      ]
     },
     "execution_count": 57,
     "metadata": {},
     "output_type": "execute_result"
    }
   ],
   "source": [
    "{x : x % 3 for x in range(0, 30) if x % 2 != 0} # x = key and x % 3 = value , if, 'if' condition is satisfied then\n",
    "                                                # only it appends"
   ]
  },
  {
   "cell_type": "markdown",
   "metadata": {},
   "source": [
    "### Tuple Comprehension"
   ]
  },
  {
   "cell_type": "code",
   "execution_count": 58,
   "metadata": {
    "collapsed": true
   },
   "outputs": [],
   "source": [
    "# there is no tuple comprehension coz its immutable and cannot be appended"
   ]
  },
  {
   "cell_type": "markdown",
   "metadata": {},
   "source": [
    "### Generator \n"
   ]
  },
  {
   "cell_type": "code",
   "execution_count": 59,
   "metadata": {},
   "outputs": [
    {
     "data": {
      "text/plain": [
       "<generator object <genexpr> at 0x0000017DCC5E36D0>"
      ]
     },
     "execution_count": 59,
     "metadata": {},
     "output_type": "execute_result"
    }
   ],
   "source": [
    "(x % 3 for x in range(0, 30) if x % 2 != 0)"
   ]
  },
  {
   "cell_type": "code",
   "execution_count": 68,
   "metadata": {
    "collapsed": true
   },
   "outputs": [],
   "source": [
    "# 0x0000017DCC5E36D0 is the memory address of the object x\n",
    "# value is not stored in generator\n",
    "# but is stored in other data structures"
   ]
  },
  {
   "cell_type": "code",
   "execution_count": 69,
   "metadata": {},
   "outputs": [
    {
     "data": {
      "text/plain": [
       "[1, 0, 2, 1, 0, 2, 1, 0, 2, 1, 0, 2, 1, 0, 2]"
      ]
     },
     "execution_count": 69,
     "metadata": {},
     "output_type": "execute_result"
    }
   ],
   "source": [
    "[x % 3 for x in range(0, 30) if x % 2 != 0]"
   ]
  },
  {
   "cell_type": "code",
   "execution_count": 70,
   "metadata": {
    "collapsed": true
   },
   "outputs": [],
   "source": [
    "g = (x % 3 for x in range(0, 30) if x % 2 != 0)"
   ]
  },
  {
   "cell_type": "code",
   "execution_count": 71,
   "metadata": {},
   "outputs": [
    {
     "data": {
      "text/plain": [
       "<generator object <genexpr> at 0x0000017DCC5E3EB8>"
      ]
     },
     "execution_count": 71,
     "metadata": {},
     "output_type": "execute_result"
    }
   ],
   "source": [
    "g"
   ]
  },
  {
   "cell_type": "code",
   "execution_count": 72,
   "metadata": {},
   "outputs": [
    {
     "data": {
      "text/plain": [
       "1"
      ]
     },
     "execution_count": 72,
     "metadata": {},
     "output_type": "execute_result"
    }
   ],
   "source": [
    "next(g)"
   ]
  },
  {
   "cell_type": "code",
   "execution_count": 73,
   "metadata": {},
   "outputs": [
    {
     "data": {
      "text/plain": [
       "0"
      ]
     },
     "execution_count": 73,
     "metadata": {},
     "output_type": "execute_result"
    }
   ],
   "source": [
    "next(g)"
   ]
  },
  {
   "cell_type": "code",
   "execution_count": 74,
   "metadata": {},
   "outputs": [
    {
     "data": {
      "text/plain": [
       "2"
      ]
     },
     "execution_count": 74,
     "metadata": {},
     "output_type": "execute_result"
    }
   ],
   "source": [
    "next(g)"
   ]
  },
  {
   "cell_type": "code",
   "execution_count": 75,
   "metadata": {
    "collapsed": true
   },
   "outputs": [],
   "source": [
    "def gen():\n",
    "    yield 1 # yield -> \n",
    "    yield 2\n",
    "    yield 3\n",
    "    "
   ]
  },
  {
   "cell_type": "code",
   "execution_count": 76,
   "metadata": {},
   "outputs": [
    {
     "data": {
      "text/plain": [
       "<generator object gen at 0x0000017DCC5E3F10>"
      ]
     },
     "execution_count": 76,
     "metadata": {},
     "output_type": "execute_result"
    }
   ],
   "source": [
    "gen()"
   ]
  },
  {
   "cell_type": "code",
   "execution_count": 77,
   "metadata": {
    "collapsed": true
   },
   "outputs": [],
   "source": [
    "gg = gen()"
   ]
  },
  {
   "cell_type": "code",
   "execution_count": 79,
   "metadata": {},
   "outputs": [
    {
     "data": {
      "text/plain": [
       "1"
      ]
     },
     "execution_count": 79,
     "metadata": {},
     "output_type": "execute_result"
    }
   ],
   "source": [
    "next(gg)"
   ]
  },
  {
   "cell_type": "code",
   "execution_count": 80,
   "metadata": {},
   "outputs": [
    {
     "data": {
      "text/plain": [
       "2"
      ]
     },
     "execution_count": 80,
     "metadata": {},
     "output_type": "execute_result"
    }
   ],
   "source": [
    "next (gg)"
   ]
  },
  {
   "cell_type": "code",
   "execution_count": 81,
   "metadata": {},
   "outputs": [
    {
     "data": {
      "text/plain": [
       "3"
      ]
     },
     "execution_count": 81,
     "metadata": {},
     "output_type": "execute_result"
    }
   ],
   "source": [
    "next(gg)"
   ]
  },
  {
   "cell_type": "code",
   "execution_count": 82,
   "metadata": {},
   "outputs": [
    {
     "ename": "StopIteration",
     "evalue": "",
     "output_type": "error",
     "traceback": [
      "\u001b[1;31m---------------------------------------------------------------------------\u001b[0m",
      "\u001b[1;31mStopIteration\u001b[0m                             Traceback (most recent call last)",
      "\u001b[1;32m<ipython-input-82-061679e5a616>\u001b[0m in \u001b[0;36m<module>\u001b[1;34m()\u001b[0m\n\u001b[1;32m----> 1\u001b[1;33m \u001b[0mnext\u001b[0m\u001b[1;33m(\u001b[0m\u001b[0mgg\u001b[0m\u001b[1;33m)\u001b[0m\u001b[1;33m\u001b[0m\u001b[0m\n\u001b[0m",
      "\u001b[1;31mStopIteration\u001b[0m: "
     ]
    }
   ],
   "source": [
    "next(gg)"
   ]
  },
  {
   "cell_type": "code",
   "execution_count": 87,
   "metadata": {
    "collapsed": true
   },
   "outputs": [],
   "source": [
    "# the function stops after first return everytime the function is called\n",
    "def gen():\n",
    "    return 1  \n",
    "    return 2\n",
    "    return 3"
   ]
  },
  {
   "cell_type": "code",
   "execution_count": 88,
   "metadata": {},
   "outputs": [
    {
     "data": {
      "text/plain": [
       "1"
      ]
     },
     "execution_count": 88,
     "metadata": {},
     "output_type": "execute_result"
    }
   ],
   "source": [
    "gen()"
   ]
  },
  {
   "cell_type": "code",
   "execution_count": 89,
   "metadata": {},
   "outputs": [
    {
     "data": {
      "text/plain": [
       "1"
      ]
     },
     "execution_count": 89,
     "metadata": {},
     "output_type": "execute_result"
    }
   ],
   "source": [
    "gen()"
   ]
  },
  {
   "cell_type": "code",
   "execution_count": 90,
   "metadata": {},
   "outputs": [
    {
     "ename": "TypeError",
     "evalue": "'int' object is not an iterator",
     "output_type": "error",
     "traceback": [
      "\u001b[1;31m---------------------------------------------------------------------------\u001b[0m",
      "\u001b[1;31mTypeError\u001b[0m                                 Traceback (most recent call last)",
      "\u001b[1;32m<ipython-input-90-9a2f098dce69>\u001b[0m in \u001b[0;36m<module>\u001b[1;34m()\u001b[0m\n\u001b[1;32m----> 1\u001b[1;33m \u001b[0mnext\u001b[0m\u001b[1;33m(\u001b[0m\u001b[0mgen\u001b[0m\u001b[1;33m(\u001b[0m\u001b[1;33m)\u001b[0m\u001b[1;33m)\u001b[0m\u001b[1;31m# next only works where there is yield\u001b[0m\u001b[1;33m\u001b[0m\u001b[0m\n\u001b[0m",
      "\u001b[1;31mTypeError\u001b[0m: 'int' object is not an iterator"
     ]
    }
   ],
   "source": [
    "next(gen())# next only works where there is yield"
   ]
  },
  {
   "cell_type": "code",
   "execution_count": 91,
   "metadata": {
    "collapsed": true
   },
   "outputs": [],
   "source": [
    "x = 7 if 6 < 7 else 6 # tercery operator ?: "
   ]
  },
  {
   "cell_type": "code",
   "execution_count": 92,
   "metadata": {},
   "outputs": [
    {
     "data": {
      "text/plain": [
       "7"
      ]
     },
     "execution_count": 92,
     "metadata": {},
     "output_type": "execute_result"
    }
   ],
   "source": [
    "x"
   ]
  },
  {
   "cell_type": "code",
   "execution_count": 93,
   "metadata": {
    "collapsed": true
   },
   "outputs": [],
   "source": [
    "# simple if of above\n",
    "if 6 < 7:\n",
    "    x = 7\n",
    "else:\n",
    "    x =6\n",
    "    "
   ]
  },
  {
   "cell_type": "code",
   "execution_count": 99,
   "metadata": {},
   "outputs": [
    {
     "data": {
      "text/plain": [
       "['h', 'e', 'l', 'l', 'o']"
      ]
     },
     "execution_count": 99,
     "metadata": {},
     "output_type": "execute_result"
    }
   ],
   "source": [
    "# startswith -> check if the char h starts with hello string\n",
    "[y for x in [\"hello\", \"world\"] for y in x if x.startswith('h')] "
   ]
  },
  {
   "cell_type": "code",
   "execution_count": 100,
   "metadata": {},
   "outputs": [],
   "source": [
    "yy = []\n",
    "for x in [\"hello\", \"world\"]:\n",
    "    if x.startswith('h'):\n",
    "        for y in x:\n",
    "            yy.append(y)"
   ]
  },
  {
   "cell_type": "code",
   "execution_count": 101,
   "metadata": {},
   "outputs": [
    {
     "data": {
      "text/plain": [
       "['h', 'e', 'l', 'l', 'o']"
      ]
     },
     "execution_count": 101,
     "metadata": {},
     "output_type": "execute_result"
    }
   ],
   "source": [
    "yy"
   ]
  },
  {
   "cell_type": "code",
   "execution_count": 103,
   "metadata": {},
   "outputs": [
    {
     "data": {
      "text/plain": [
       "['H', 'E', 'L', 'L', 'o']"
      ]
     },
     "execution_count": 103,
     "metadata": {},
     "output_type": "execute_result"
    }
   ],
   "source": [
    "#if else is appended everytime\n",
    "[y if y > 'm' else y.upper() for x in [\"hello\", \"world\"] for y in x if x.startswith('h')]"
   ]
  },
  {
   "cell_type": "code",
   "execution_count": null,
   "metadata": {
    "collapsed": true
   },
   "outputs": [],
   "source": []
  }
 ],
 "metadata": {
  "kernelspec": {
   "display_name": "Python 3",
   "language": "python",
   "name": "python3"
  },
  "language_info": {
   "codemirror_mode": {
    "name": "ipython",
    "version": 3
   },
   "file_extension": ".py",
   "mimetype": "text/x-python",
   "name": "python",
   "nbconvert_exporter": "python",
   "pygments_lexer": "ipython3",
   "version": "3.6.1"
  }
 },
 "nbformat": 4,
 "nbformat_minor": 2
}
